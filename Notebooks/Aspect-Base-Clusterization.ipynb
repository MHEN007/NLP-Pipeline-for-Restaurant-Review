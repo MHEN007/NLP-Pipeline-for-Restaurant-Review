{
 "cells": [
  {
   "cell_type": "code",
   "execution_count": 1,
   "metadata": {
    "_cell_guid": "b1076dfc-b9ad-4769-8c92-a6c4dae69d19",
    "_uuid": "8f2839f25d086af736a60e9eeb907d3b93b6e0e5",
    "scrolled": true
   },
   "outputs": [],
   "source": [
    "import numpy as np\n",
    "import pandas as pd"
   ]
  },
  {
   "cell_type": "markdown",
   "metadata": {},
   "source": [
    "# Train Dataset"
   ]
  },
  {
   "cell_type": "code",
   "execution_count": 2,
   "metadata": {},
   "outputs": [],
   "source": [
    "aspect_dev_df = pd.read_csv(\"aspect-dev.csv\")"
   ]
  },
  {
   "cell_type": "code",
   "execution_count": 3,
   "metadata": {},
   "outputs": [
    {
     "data": {
      "text/html": [
       "<div>\n",
       "<style scoped>\n",
       "    .dataframe tbody tr th:only-of-type {\n",
       "        vertical-align: middle;\n",
       "    }\n",
       "\n",
       "    .dataframe tbody tr th {\n",
       "        vertical-align: top;\n",
       "    }\n",
       "\n",
       "    .dataframe thead th {\n",
       "        text-align: right;\n",
       "    }\n",
       "</style>\n",
       "<table border=\"1\" class=\"dataframe\">\n",
       "  <thead>\n",
       "    <tr style=\"text-align: right;\">\n",
       "      <th></th>\n",
       "      <th>Unnamed: 0</th>\n",
       "      <th>id</th>\n",
       "      <th>text</th>\n",
       "      <th>aspectCategory</th>\n",
       "      <th>polarity</th>\n",
       "      <th>tokens</th>\n",
       "    </tr>\n",
       "  </thead>\n",
       "  <tbody>\n",
       "    <tr>\n",
       "      <th>0</th>\n",
       "      <td>0</td>\n",
       "      <td>3121</td>\n",
       "      <td>But the staff was so horrible to us.</td>\n",
       "      <td>service</td>\n",
       "      <td>negative</td>\n",
       "      <td>['But', 'the', 'staff', 'was', 'so', 'horrible...</td>\n",
       "    </tr>\n",
       "    <tr>\n",
       "      <th>1</th>\n",
       "      <td>1</td>\n",
       "      <td>2777</td>\n",
       "      <td>To be completely fair, the only redeeming fact...</td>\n",
       "      <td>food</td>\n",
       "      <td>positive</td>\n",
       "      <td>['To', 'be', 'completely', 'fair,', 'the', 'on...</td>\n",
       "    </tr>\n",
       "    <tr>\n",
       "      <th>2</th>\n",
       "      <td>2</td>\n",
       "      <td>2777</td>\n",
       "      <td>To be completely fair, the only redeeming fact...</td>\n",
       "      <td>anecdotes/miscellaneous</td>\n",
       "      <td>negative</td>\n",
       "      <td>['To', 'be', 'completely', 'fair,', 'the', 'on...</td>\n",
       "    </tr>\n",
       "    <tr>\n",
       "      <th>3</th>\n",
       "      <td>3</td>\n",
       "      <td>1634</td>\n",
       "      <td>The food is uniformly exceptional, with a very...</td>\n",
       "      <td>food</td>\n",
       "      <td>positive</td>\n",
       "      <td>['The', 'food', 'is', 'uniformly', 'exceptiona...</td>\n",
       "    </tr>\n",
       "    <tr>\n",
       "      <th>4</th>\n",
       "      <td>4</td>\n",
       "      <td>2534</td>\n",
       "      <td>Where Gabriela personaly greets you and recomm...</td>\n",
       "      <td>service</td>\n",
       "      <td>positive</td>\n",
       "      <td>['Where', 'Gabriela', 'personaly', 'greets', '...</td>\n",
       "    </tr>\n",
       "  </tbody>\n",
       "</table>\n",
       "</div>"
      ],
      "text/plain": [
       "   Unnamed: 0    id                                               text  \\\n",
       "0           0  3121               But the staff was so horrible to us.   \n",
       "1           1  2777  To be completely fair, the only redeeming fact...   \n",
       "2           2  2777  To be completely fair, the only redeeming fact...   \n",
       "3           3  1634  The food is uniformly exceptional, with a very...   \n",
       "4           4  2534  Where Gabriela personaly greets you and recomm...   \n",
       "\n",
       "            aspectCategory  polarity  \\\n",
       "0                  service  negative   \n",
       "1                     food  positive   \n",
       "2  anecdotes/miscellaneous  negative   \n",
       "3                     food  positive   \n",
       "4                  service  positive   \n",
       "\n",
       "                                              tokens  \n",
       "0  ['But', 'the', 'staff', 'was', 'so', 'horrible...  \n",
       "1  ['To', 'be', 'completely', 'fair,', 'the', 'on...  \n",
       "2  ['To', 'be', 'completely', 'fair,', 'the', 'on...  \n",
       "3  ['The', 'food', 'is', 'uniformly', 'exceptiona...  \n",
       "4  ['Where', 'Gabriela', 'personaly', 'greets', '...  "
      ]
     },
     "execution_count": 3,
     "metadata": {},
     "output_type": "execute_result"
    }
   ],
   "source": [
    "aspect_train_df = pd.read_csv(\"aspect-train.csv\")\n",
    "aspect_train_df.head()"
   ]
  },
  {
   "cell_type": "code",
   "execution_count": 4,
   "metadata": {},
   "outputs": [],
   "source": [
    "food_train = aspect_train_df.loc[aspect_train_df['aspectCategory']==\"food\", 'text']\n",
    "price_train = aspect_train_df.loc[aspect_train_df['aspectCategory']==\"price\", 'text']\n",
    "service_train = aspect_train_df.loc[aspect_train_df['aspectCategory']==\"service\", 'text']\n",
    "place_train = aspect_train_df.loc[aspect_train_df['aspectCategory']==\"ambience\", \"text\"]\n",
    "\n",
    "food_dev = aspect_dev_df.loc[aspect_dev_df['aspectCategory']==\"food\", 'text']\n",
    "price_dev = aspect_dev_df.loc[aspect_dev_df['aspectCategory']==\"price\", 'text']\n",
    "service_dev = aspect_dev_df.loc[aspect_dev_df['aspectCategory']==\"service\", 'text']\n",
    "place_dev = aspect_dev_df.loc[aspect_dev_df['aspectCategory']==\"ambience\", \"text\"]"
   ]
  },
  {
   "cell_type": "code",
   "execution_count": 5,
   "metadata": {},
   "outputs": [],
   "source": [
    "train_dfs = [\n",
    "    pd.DataFrame({'text': food_train, 'category': 'food'}),\n",
    "    pd.DataFrame({'text': price_train, 'category': 'price'}),\n",
    "    pd.DataFrame({'text': service_train, 'category': 'service'}),\n",
    "    pd.DataFrame({'text': place_train, 'category': 'place'})\n",
    "]\n",
    "\n",
    "train_df = pd.concat(train_dfs, ignore_index=True)\n",
    "\n",
    "dev_dfs = [\n",
    "    pd.DataFrame({'text': food_dev, 'category': 'food'}),\n",
    "    pd.DataFrame({'text': price_dev, 'category': 'price'}),\n",
    "    pd.DataFrame({'text': service_dev, 'category': 'service'}),\n",
    "    pd.DataFrame({'text': place_dev, 'category': 'place'})\n",
    "]\n",
    "\n",
    "dev_df = pd.concat(dev_dfs, ignore_index=True)\n",
    "\n",
    "final_df = pd.concat([train_df, dev_df], ignore_index=True)"
   ]
  },
  {
   "cell_type": "code",
   "execution_count": 6,
   "metadata": {},
   "outputs": [
    {
     "data": {
      "text/plain": [
       "category\n",
       "food       1051\n",
       "service     506\n",
       "place       368\n",
       "price       275\n",
       "Name: count, dtype: int64"
      ]
     },
     "execution_count": 6,
     "metadata": {},
     "output_type": "execute_result"
    }
   ],
   "source": [
    "final_df['category'].value_counts()"
   ]
  },
  {
   "cell_type": "markdown",
   "metadata": {},
   "source": [
    "# Clustering"
   ]
  },
  {
   "cell_type": "code",
   "execution_count": 7,
   "metadata": {
    "scrolled": true
   },
   "outputs": [],
   "source": [
    "# !pip install sentence_transformers"
   ]
  },
  {
   "cell_type": "code",
   "execution_count": 12,
   "metadata": {
    "scrolled": true
   },
   "outputs": [
    {
     "name": "stderr",
     "output_type": "stream",
     "text": [
      "/opt/homebrew/anaconda3/envs/asterisk/lib/python3.11/site-packages/transformers/utils/import_utils.py:601: FutureWarning: `is_torch_tpu_available` is deprecated and will be removed in 4.41.0. Please use the `is_torch_xla_available` instead.\n",
      "  warnings.warn(\n"
     ]
    }
   ],
   "source": [
    "from sentence_transformers import SentenceTransformer\n",
    "import numpy as np\n",
    "import pandas as pd\n",
    "from typing import List, Dict\n",
    "import torch\n",
    "from tqdm import tqdm\n",
    "import matplotlib.pyplot as plt\n",
    "import seaborn as sns\n",
    "\n",
    "class RestaurantTopicAnalyzer:\n",
    "    def __init__(self, similarity_threshold = 0.3, device = None, embedding_model=None):\n",
    "        if device is None:\n",
    "            self.device = 'cuda' if torch.cuda.is_available() else 'cpu'\n",
    "        else:\n",
    "            self.device = device\n",
    "        \n",
    "        self.model = SentenceTransformer(embedding_model, device=self.device)\n",
    "        self.similarity_threshold = similarity_threshold\n",
    "        \n",
    "        self.categories = {\n",
    "            'food': (\n",
    "                \"discussion about food quality, taste, dishes, menu items, \"\n",
    "                \"cooking, flavors, portions, ingredients, cuisine\"\n",
    "            ),\n",
    "            'place': (\n",
    "                \"discussion about restaurant ambiance, atmosphere, decoration, \"\n",
    "                \"location, cleanliness, seating, parking, venue\"\n",
    "            ),\n",
    "            'price': (\n",
    "                \"discussion about costs, prices, value for money, expenses, \"\n",
    "                \"affordability, budget, worth, deals\"\n",
    "            ),\n",
    "            'service': (\n",
    "                \"discussion about staff behavior, waiting time, customer service, \"\n",
    "                \"waiters, servers, attentiveness, hospitality\"\n",
    "            )\n",
    "        }\n",
    "        \n",
    "        self.category_embeddings = {\n",
    "            category: self.model.encode(description, convert_to_tensor=True, device=self.device)\n",
    "            for category, description in self.categories.items()\n",
    "        }\n",
    "\n",
    "    def get_topics(self, text):\n",
    "        try:\n",
    "            text_embedding = self.model.encode(text, convert_to_tensor=True, device=self.device)\n",
    "            \n",
    "            similarities = {}\n",
    "            for category, cat_embedding in self.category_embeddings.items():\n",
    "                text_embedding = text_embedding.to(self.device)\n",
    "                cat_embedding = cat_embedding.to(self.device)\n",
    "                \n",
    "                similarity = float(torch.cosine_similarity(text_embedding, cat_embedding, dim=0))\n",
    "                similarities[category] = similarity\n",
    "            \n",
    "            relevant_topics = {\n",
    "                category: score \n",
    "                for category, score in similarities.items() \n",
    "                if score > self.similarity_threshold\n",
    "            }\n",
    "            \n",
    "            if not relevant_topics:\n",
    "                max_category = max(similarities.items(), key=lambda x: x[1])\n",
    "                relevant_topics = {max_category[0]: max_category[1]}\n",
    "            \n",
    "            return relevant_topics\n",
    "        \n",
    "        except Exception as e:\n",
    "            print(f\"Error processing text: {text}\")\n",
    "            print(f\"Error message: {str(e)}\")\n",
    "            return {}\n",
    "\n",
    "    def analyze_dataframe(self, df, text_column = 'text'):\n",
    "        result_df = df.copy()\n",
    "        \n",
    "        for category in self.categories.keys():\n",
    "            result_df[f'topic_{category}'] = 0\n",
    "            result_df[f'score_{category}'] = 0.0\n",
    "        \n",
    "        result_df['topic_count'] = 0\n",
    "        result_df['main_topics'] = ''\n",
    "        result_df['primary_topic'] = ''\n",
    "        result_df['primary_score'] = 0.0\n",
    "        \n",
    "        print(f\"Analyzing texts on {self.device}...\")\n",
    "        for idx in tqdm(range(len(df))):\n",
    "            text = str(df.iloc[idx][text_column])\n",
    "            topics = self.get_topics(text)\n",
    "            \n",
    "            for category, score in topics.items():\n",
    "                result_df.at[idx, f'topic_{category}'] = 1\n",
    "                result_df.at[idx, f'score_{category}'] = score\n",
    "            \n",
    "            result_df.at[idx, 'topic_count'] = len(topics)\n",
    "            result_df.at[idx, 'main_topics'] = ', '.join(topics.keys())\n",
    "            \n",
    "            if topics:\n",
    "                primary_topic = max(topics.items(), key=lambda x: x[1])\n",
    "                result_df.at[idx, 'primary_topic'] = primary_topic[0]\n",
    "                result_df.at[idx, 'primary_score'] = primary_topic[1]\n",
    "        \n",
    "        return result_df\n",
    "\n",
    "    def generate_analysis_report(self, df):\n",
    "        topic_columns = [col for col in df.columns if col.startswith('topic_') and col != 'topic_count']\n",
    "        \n",
    "        topic_distribution = {\n",
    "            col.replace('topic_', ''): df[col].sum()\n",
    "            for col in topic_columns\n",
    "        }\n",
    "        \n",
    "        primary_topic_dist = df['primary_topic'].value_counts().to_dict()\n",
    "        \n",
    "        avg_scores = {\n",
    "            col.replace('score_', ''): df[col].mean()\n",
    "            for col in df.columns if col.startswith('score_')\n",
    "        }\n",
    "        \n",
    "        return {\n",
    "            'total_texts': len(df),\n",
    "            'topic_distribution': topic_distribution,\n",
    "            'primary_topic_distribution': primary_topic_dist,\n",
    "            'avg_scores': avg_scores,\n",
    "            'avg_topics_per_text': df['topic_count'].mean()\n",
    "        }\n",
    "\n",
    "    def plot_topic_distribution(self, df):\n",
    "        plt.figure(figsize=(12, 5))\n",
    "        \n",
    "        plt.subplot(1, 2, 1)\n",
    "        topic_columns = [col for col in df.columns if col.startswith('topic_') and col != 'topic_count']\n",
    "        topic_counts = [df[col].sum() for col in topic_columns]\n",
    "        topic_names = [col.replace('topic_', '') for col in topic_columns]\n",
    "        \n",
    "        sns.barplot(x=topic_names, y=topic_counts)\n",
    "        plt.title('All Topics Distribution')\n",
    "        plt.xlabel('Topics')\n",
    "        plt.ylabel('Count')\n",
    "        plt.xticks(rotation=45)\n",
    "        \n",
    "        plt.subplot(1, 2, 2)\n",
    "        primary_topic_counts = df['primary_topic'].value_counts()\n",
    "        sns.barplot(x=primary_topic_counts.index, y=primary_topic_counts.values)\n",
    "        plt.title('Primary Topic Distribution')\n",
    "        plt.xlabel('Topics')\n",
    "        plt.ylabel('Count')\n",
    "        plt.xticks(rotation=45)\n",
    "        \n",
    "        plt.tight_layout()\n",
    "        plt.show()"
   ]
  },
  {
   "cell_type": "code",
   "execution_count": 13,
   "metadata": {
    "scrolled": true
   },
   "outputs": [],
   "source": [
    "analyzer = RestaurantTopicAnalyzer(\n",
    "    similarity_threshold=0.3,\n",
    "    device='mps' if torch.backends.mps.is_available() else 'cpu',\n",
    "    embedding_model='all-MiniLM-L6-v2'\n",
    ")"
   ]
  },
  {
   "cell_type": "code",
   "execution_count": 14,
   "metadata": {
    "scrolled": true
   },
   "outputs": [
    {
     "name": "stdout",
     "output_type": "stream",
     "text": [
      "Analyzing texts on mps...\n"
     ]
    },
    {
     "name": "stderr",
     "output_type": "stream",
     "text": [
      "100%|███████████████████████████████████████| 2200/2200 [00:41<00:00, 52.72it/s]\n"
     ]
    }
   ],
   "source": [
    "results_df = analyzer.analyze_dataframe(final_df)"
   ]
  },
  {
   "cell_type": "code",
   "execution_count": 15,
   "metadata": {},
   "outputs": [
    {
     "name": "stdout",
     "output_type": "stream",
     "text": [
      "\n",
      "Analysis Report:\n",
      "Total texts analyzed: 2200\n",
      "\n",
      "Topic Distribution:\n",
      "food: 1298\n",
      "place: 1020\n",
      "price: 146\n",
      "service: 617\n",
      "\n",
      "Primary Topic Distribution:\n",
      "food: 1022\n",
      "place: 657\n",
      "service: 393\n",
      "price: 128\n"
     ]
    },
    {
     "data": {
      "image/png": "[encoded data removed]",
      "text/plain": [
       "<Figure size 1200x500 with 2 Axes>"
      ]
     },
     "metadata": {},
     "output_type": "display_data"
    },
    {
     "name": "stdout",
     "output_type": "stream",
     "text": [
      "\n",
      "Detailed Results:\n",
      "\n",
      "Text: To be completely fair, the only redeeming factor was the food, which was above average, but couldn't make up for all the other deficiencies of Teodora.\n",
      "Primary Topic: food\n",
      "All Topics: food\n",
      "\n",
      "Text: The food is uniformly exceptional, with a very capable kitchen which will proudly whip up whatever you feel like eating, whether it's on the menu or not.\n",
      "Primary Topic: food\n",
      "All Topics: food, place\n",
      "\n",
      "Text: Not only was the food outstanding, but the little 'perks' were great.\n",
      "Primary Topic: food\n",
      "All Topics: food\n",
      "\n",
      "Text: It is very overpriced and not very tasty.\n",
      "Primary Topic: food\n",
      "All Topics: food\n",
      "\n",
      "Text: Our agreed favorite is the orrechiete with sausage and chicken (usually the waiters are kind enough to split the dish in half so you get to sample both meats).\n",
      "Primary Topic: food\n",
      "All Topics: food, place\n",
      "\n",
      "Text: The Bagels have an outstanding taste with a terrific texture, both chewy yet not gummy.\n",
      "Primary Topic: food\n",
      "All Topics: food\n",
      "\n",
      "Text: Nevertheless the food itself is pretty good.\n",
      "Primary Topic: food\n",
      "All Topics: food\n",
      "\n",
      "Text: They did not have mayonnaise, forgot our toast, left out ingredients (ie cheese in an omelet), below hot temperatures and the bacon was so over cooked it crumbled on the plate when you touched it.\n",
      "Primary Topic: food\n",
      "All Topics: food\n",
      "\n",
      "Text: He has visited Thailand and is quite expert on the cuisine.\n",
      "Primary Topic: food\n",
      "All Topics: food\n",
      "\n",
      "Text: The pizza is the best if you like thin crusted pizza.\n",
      "Primary Topic: food\n",
      "All Topics: food\n"
     ]
    }
   ],
   "source": [
    "report = analyzer.generate_analysis_report(results_df)\n",
    "print(\"\\nAnalysis Report:\")\n",
    "print(f\"Total texts analyzed: {report['total_texts']}\")\n",
    "print(\"\\nTopic Distribution:\")\n",
    "for topic, count in report['topic_distribution'].items():\n",
    "    print(f\"{topic}: {count}\")\n",
    "print(\"\\nPrimary Topic Distribution:\")\n",
    "for topic, count in report['primary_topic_distribution'].items():\n",
    "    print(f\"{topic}: {count}\")\n",
    "\n",
    "analyzer.plot_topic_distribution(results_df)\n",
    "\n",
    "print(\"\\nDetailed Results:\")\n",
    "for idx in range(10):\n",
    "    text = results_df.iloc[idx]['text']\n",
    "    primary = results_df.iloc[idx]['primary_topic']\n",
    "    all_topics = results_df.iloc[idx]['main_topics']\n",
    "    print(f\"\\nText: {text}\")\n",
    "    print(f\"Primary Topic: {primary}\")\n",
    "    print(f\"All Topics: {all_topics}\")"
   ]
  },
  {
   "cell_type": "code",
   "execution_count": 16,
   "metadata": {},
   "outputs": [],
   "source": [
    "results_df.to_csv(\"temporary_result.csv\")"
   ]
  },
  {
   "cell_type": "markdown",
   "metadata": {},
   "source": [
    "# Eksperimen"
   ]
  },
  {
   "cell_type": "code",
   "execution_count": 21,
   "metadata": {},
   "outputs": [
    {
     "name": "stdout",
     "output_type": "stream",
     "text": [
      "Processing model: all-MiniLM-L12-v2, with threshold: 0.2\n",
      "Analyzing texts on mps...\n"
     ]
    },
    {
     "name": "stderr",
     "output_type": "stream",
     "text": [
      "100%|███████████████████████████████████████| 2200/2200 [00:46<00:00, 46.99it/s]\n"
     ]
    },
    {
     "name": "stdout",
     "output_type": "stream",
     "text": [
      "Saved results to results_all-MiniLM-L12-v2_threshold_0.2.csv\n",
      "Processing model: all-MiniLM-L12-v2, with threshold: 0.3\n",
      "Analyzing texts on mps...\n"
     ]
    },
    {
     "name": "stderr",
     "output_type": "stream",
     "text": [
      "100%|███████████████████████████████████████| 2200/2200 [00:48<00:00, 45.21it/s]\n"
     ]
    },
    {
     "name": "stdout",
     "output_type": "stream",
     "text": [
      "Saved results to results_all-MiniLM-L12-v2_threshold_0.3.csv\n",
      "Processing model: all-MiniLM-L12-v2, with threshold: 0.4\n",
      "Analyzing texts on mps...\n"
     ]
    },
    {
     "name": "stderr",
     "output_type": "stream",
     "text": [
      "100%|███████████████████████████████████████| 2200/2200 [00:46<00:00, 46.96it/s]"
     ]
    },
    {
     "name": "stdout",
     "output_type": "stream",
     "text": [
      "Saved results to results_all-MiniLM-L12-v2_threshold_0.4.csv\n"
     ]
    },
    {
     "name": "stderr",
     "output_type": "stream",
     "text": [
      "\n"
     ]
    }
   ],
   "source": [
    "models = [\n",
    "    # 'all-MiniLM-L6-v2',\n",
    "    # 'all-mpnet-base-v2',\n",
    "    # 'paraphrase-multilingual-MiniLM-L12-v2',\n",
    "    'all-MiniLM-L12-v2'\n",
    "]\n",
    "thresholds = [0.2, 0.3, 0.4]\n",
    "\n",
    "for model_name in models:\n",
    "    for threshold in thresholds:\n",
    "        print(f\"Processing model: {model_name}, with threshold: {threshold}\")\n",
    "        analyzer = RestaurantTopicAnalyzer(\n",
    "            similarity_threshold=threshold,\n",
    "            device='mps' if torch.backends.mps.is_available() else 'cpu',\n",
    "            embedding_model=model_name\n",
    "        )\n",
    "        \n",
    "        results_df = analyzer.analyze_dataframe(final_df)\n",
    "        \n",
    "        filename = f\"results_{model_name}_threshold_{threshold}.csv\"\n",
    "        results_df.to_csv(filename, index=False)\n",
    "        print(f\"Saved results to {filename}\")"
   ]
  },
  {
   "cell_type": "code",
   "execution_count": null,
   "metadata": {},
   "outputs": [],
   "source": []
  }
 ],
 "metadata": {
  "kaggle": {
   "accelerator": "nvidiaTeslaT4",
   "dataSources": [
    {
     "datasetId": 3642466,
     "sourceId": 6330015,
     "sourceType": "datasetVersion"
    },
    {
     "datasetId": 6249783,
     "sourceId": 10127439,
     "sourceType": "datasetVersion"
    }
   ],
   "dockerImageVersionId": 30805,
   "isGpuEnabled": true,
   "isInternetEnabled": true,
   "language": "python",
   "sourceType": "notebook"
  },
  "kernelspec": {
   "display_name": "Python 3 (ipykernel)",
   "language": "python",
   "name": "python3"
  },
  "language_info": {
   "codemirror_mode": {
    "name": "ipython",
    "version": 3
   },
   "file_extension": ".py",
   "mimetype": "text/x-python",
   "name": "python",
   "nbconvert_exporter": "python",
   "pygments_lexer": "ipython3",
   "version": "3.11.8"
  }
 },
 "nbformat": 4,
 "nbformat_minor": 4
}
