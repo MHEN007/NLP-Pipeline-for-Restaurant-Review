{
 "cells": [
  {
   "cell_type": "code",
   "execution_count": null,
   "metadata": {
    "execution": {
     "iopub.execute_input": "2024-12-11T18:41:58.644671Z",
     "iopub.status.busy": "2024-12-11T18:41:58.644333Z",
     "iopub.status.idle": "2024-12-11T18:41:58.649121Z",
     "shell.execute_reply": "2024-12-11T18:41:58.648277Z",
     "shell.execute_reply.started": "2024-12-11T18:41:58.644631Z"
    },
    "trusted": true
   },
   "outputs": [],
   "source": [
    "import torch\n",
    "import pandas as pd\n",
    "from tqdm import tqdm\n",
    "from transformers import AutoTokenizer, AutoModelForSequenceClassification, pipeline\n",
    "from datasets import load_dataset\n",
    "import spacy\n",
    "import spacy.displacy"
   ]
  },
  {
   "cell_type": "markdown",
   "metadata": {},
   "source": [
    "# Dataset"
   ]
  },
  {
   "cell_type": "code",
   "execution_count": 47,
   "metadata": {
    "execution": {
     "iopub.execute_input": "2024-12-11T18:42:00.174585Z",
     "iopub.status.busy": "2024-12-11T18:42:00.173902Z",
     "iopub.status.idle": "2024-12-11T18:42:01.168704Z",
     "shell.execute_reply": "2024-12-11T18:42:01.167887Z",
     "shell.execute_reply.started": "2024-12-11T18:42:00.174548Z"
    },
    "trusted": true
   },
   "outputs": [
    {
     "data": {
      "text/plain": [
       "DatasetDict({\n",
       "    train: Dataset({\n",
       "        features: ['text', 'span', 'label', 'ordinal'],\n",
       "        num_rows: 3693\n",
       "    })\n",
       "    test: Dataset({\n",
       "        features: ['text', 'span', 'label', 'ordinal'],\n",
       "        num_rows: 1134\n",
       "    })\n",
       "})"
      ]
     },
     "execution_count": 47,
     "metadata": {},
     "output_type": "execute_result"
    }
   ],
   "source": [
    "df = load_dataset(\"tomaarsen/setfit-absa-semeval-restaurants\")\n",
    "df"
   ]
  },
  {
   "cell_type": "code",
   "execution_count": 48,
   "metadata": {
    "execution": {
     "iopub.execute_input": "2024-12-11T18:42:01.684089Z",
     "iopub.status.busy": "2024-12-11T18:42:01.683571Z",
     "iopub.status.idle": "2024-12-11T18:42:01.689652Z",
     "shell.execute_reply": "2024-12-11T18:42:01.688818Z",
     "shell.execute_reply.started": "2024-12-11T18:42:01.684055Z"
    },
    "trusted": true
   },
   "outputs": [
    {
     "data": {
      "text/plain": [
       "Dataset({\n",
       "    features: ['text', 'span', 'label', 'ordinal'],\n",
       "    num_rows: 3693\n",
       "})"
      ]
     },
     "execution_count": 48,
     "metadata": {},
     "output_type": "execute_result"
    }
   ],
   "source": [
    "train_df = df['train']\n",
    "train_df"
   ]
  },
  {
   "cell_type": "code",
   "execution_count": 49,
   "metadata": {
    "execution": {
     "iopub.execute_input": "2024-12-11T18:42:04.529645Z",
     "iopub.status.busy": "2024-12-11T18:42:04.529317Z",
     "iopub.status.idle": "2024-12-11T18:42:04.537335Z",
     "shell.execute_reply": "2024-12-11T18:42:04.536520Z",
     "shell.execute_reply.started": "2024-12-11T18:42:04.529618Z"
    },
    "trusted": true
   },
   "outputs": [
    {
     "name": "stdout",
     "output_type": "stream",
     "text": [
      "Number of unique labels: 4\n",
      "Unique labels: {'conflict', 'neutral', 'negative', 'positive'}\n"
     ]
    }
   ],
   "source": [
    "unique_labels = set(train_df['label'])\n",
    "print(f\"Number of unique labels: {len(unique_labels)}\")\n",
    "print(f\"Unique labels: {unique_labels}\")"
   ]
  },
  {
   "cell_type": "code",
   "execution_count": null,
   "metadata": {
    "execution": {
     "iopub.execute_input": "2024-12-11T18:42:16.751685Z",
     "iopub.status.busy": "2024-12-11T18:42:16.751031Z",
     "iopub.status.idle": "2024-12-11T18:42:16.760724Z",
     "shell.execute_reply": "2024-12-11T18:42:16.759882Z",
     "shell.execute_reply.started": "2024-12-11T18:42:16.751649Z"
    },
    "trusted": true
   },
   "outputs": [
    {
     "data": {
      "text/plain": [
       "Dataset({\n",
       "    features: ['text', 'span', 'label', 'ordinal'],\n",
       "    num_rows: 3602\n",
       "})"
      ]
     },
     "execution_count": 50,
     "metadata": {},
     "output_type": "execute_result"
    }
   ],
   "source": [
    "train_df = train_df.filter(lambda x: x['label'] != 'conflict')\n",
    "train_df"
   ]
  },
  {
   "cell_type": "code",
   "execution_count": 51,
   "metadata": {
    "execution": {
     "iopub.execute_input": "2024-12-11T18:42:18.259776Z",
     "iopub.status.busy": "2024-12-11T18:42:18.259454Z",
     "iopub.status.idle": "2024-12-11T18:42:18.279006Z",
     "shell.execute_reply": "2024-12-11T18:42:18.278009Z",
     "shell.execute_reply.started": "2024-12-11T18:42:18.259747Z"
    },
    "trusted": true
   },
   "outputs": [
    {
     "name": "stdout",
     "output_type": "stream",
     "text": [
      "Number of unique labels: 4\n",
      "Unique labels: {'neutral', 'negative', 'positive'}\n"
     ]
    }
   ],
   "source": [
    "print(f\"Number of unique labels: {len(unique_labels)}\")\n",
    "unique_labels = set(train_df['label'])\n",
    "print(f\"Unique labels: {unique_labels}\")"
   ]
  },
  {
   "cell_type": "markdown",
   "metadata": {},
   "source": [
    "# Compare Pretrained Model"
   ]
  },
  {
   "cell_type": "code",
   "execution_count": 52,
   "metadata": {
    "execution": {
     "iopub.execute_input": "2024-12-11T18:42:20.902484Z",
     "iopub.status.busy": "2024-12-11T18:42:20.901653Z",
     "iopub.status.idle": "2024-12-11T18:42:20.907094Z",
     "shell.execute_reply": "2024-12-11T18:42:20.906157Z",
     "shell.execute_reply.started": "2024-12-11T18:42:20.902451Z"
    },
    "trusted": true
   },
   "outputs": [
    {
     "name": "stdout",
     "output_type": "stream",
     "text": [
      "Using device: cuda\n"
     ]
    }
   ],
   "source": [
    "device = 'cuda' if torch.cuda.is_available() else 'cpu'\n",
    "print(f\"Using device: {device}\")\n",
    "device_index = 0 if device == 'cuda' else -1"
   ]
  },
  {
   "cell_type": "code",
   "execution_count": 74,
   "metadata": {
    "execution": {
     "iopub.execute_input": "2024-12-11T19:15:04.870703Z",
     "iopub.status.busy": "2024-12-11T19:15:04.870055Z",
     "iopub.status.idle": "2024-12-11T19:15:04.877030Z",
     "shell.execute_reply": "2024-12-11T19:15:04.876066Z",
     "shell.execute_reply.started": "2024-12-11T19:15:04.870670Z"
    },
    "trusted": true
   },
   "outputs": [],
   "source": [
    "def evaluate_model(model_name, train_df, device_index=0):\n",
    "    tokenizer = AutoTokenizer.from_pretrained(model_name)\n",
    "    model = AutoModelForSequenceClassification.from_pretrained(model_name)\n",
    "\n",
    "    classifier = pipeline(\"text-classification\", model=model, tokenizer=tokenizer, device=device_index)\n",
    "    \n",
    "    correct = 0\n",
    "    total = len(train_df)\n",
    "\n",
    "    for i in tqdm(range(total)):\n",
    "        text = train_df[i]['text']\n",
    "        label = train_df[i]['label']\n",
    "        aspect = train_df[i]['span']\n",
    "        \n",
    "        result = classifier(text, text_pair=aspect)[0]\n",
    "        \n",
    "        sentiment = result.get(\"label\")\n",
    "\n",
    "        if label.lower() == sentiment.lower():\n",
    "            correct += 1\n",
    "\n",
    "    accuracy = correct / total\n",
    "    return accuracy"
   ]
  },
  {
   "cell_type": "markdown",
   "metadata": {},
   "source": [
    "## The model that we choose"
   ]
  },
  {
   "cell_type": "code",
   "execution_count": 75,
   "metadata": {
    "execution": {
     "iopub.execute_input": "2024-12-11T19:15:06.704665Z",
     "iopub.status.busy": "2024-12-11T19:15:06.704099Z",
     "iopub.status.idle": "2024-12-11T19:16:25.706141Z",
     "shell.execute_reply": "2024-12-11T19:16:25.705282Z",
     "shell.execute_reply.started": "2024-12-11T19:15:06.704631Z"
    },
    "trusted": true
   },
   "outputs": [
    {
     "name": "stderr",
     "output_type": "stream",
     "text": [
      "100%|██████████| 3602/3602 [01:17<00:00, 46.36it/s]\n"
     ]
    },
    {
     "name": "stdout",
     "output_type": "stream",
     "text": [
      "Accuracy: 86.51%\n"
     ]
    }
   ],
   "source": [
    "model_name = \"yangheng/deberta-v3-base-absa-v1.1\"\n",
    "accuracy = evaluate_model(model_name, train_df)\n",
    "print(f\"Accuracy: {accuracy * 100:.2f}%\")"
   ]
  },
  {
   "cell_type": "code",
   "execution_count": 57,
   "metadata": {
    "execution": {
     "iopub.execute_input": "2024-12-11T18:44:32.907524Z",
     "iopub.status.busy": "2024-12-11T18:44:32.907215Z",
     "iopub.status.idle": "2024-12-11T18:47:32.206958Z",
     "shell.execute_reply": "2024-12-11T18:47:32.206057Z",
     "shell.execute_reply.started": "2024-12-11T18:44:32.907497Z"
    },
    "trusted": true
   },
   "outputs": [
    {
     "data": {
      "application/vnd.jupyter.widget-view+json": {
       "model_id": "5393e571cd454f168bf9044ce94af308",
       "version_major": 2,
       "version_minor": 0
      },
      "text/plain": [
       "tokenizer_config.json:   0%|          | 0.00/397 [00:00<?, ?B/s]"
      ]
     },
     "metadata": {},
     "output_type": "display_data"
    },
    {
     "data": {
      "application/vnd.jupyter.widget-view+json": {
       "model_id": "5c773912efec40f2b289f6d5741ca6af",
       "version_major": 2,
       "version_minor": 0
      },
      "text/plain": [
       "spm.model:   0%|          | 0.00/2.46M [00:00<?, ?B/s]"
      ]
     },
     "metadata": {},
     "output_type": "display_data"
    },
    {
     "data": {
      "application/vnd.jupyter.widget-view+json": {
       "model_id": "a98627e0db4e489ab56b73f7fb2b820d",
       "version_major": 2,
       "version_minor": 0
      },
      "text/plain": [
       "added_tokens.json:   0%|          | 0.00/18.0 [00:00<?, ?B/s]"
      ]
     },
     "metadata": {},
     "output_type": "display_data"
    },
    {
     "data": {
      "application/vnd.jupyter.widget-view+json": {
       "model_id": "ed02524effb940f6815e8af51f1fe7e1",
       "version_major": 2,
       "version_minor": 0
      },
      "text/plain": [
       "special_tokens_map.json:   0%|          | 0.00/156 [00:00<?, ?B/s]"
      ]
     },
     "metadata": {},
     "output_type": "display_data"
    },
    {
     "data": {
      "application/vnd.jupyter.widget-view+json": {
       "model_id": "8ac76b1180b6447182d6f818b1822306",
       "version_major": 2,
       "version_minor": 0
      },
      "text/plain": [
       "config.json:   0%|          | 0.00/1.03k [00:00<?, ?B/s]"
      ]
     },
     "metadata": {},
     "output_type": "display_data"
    },
    {
     "data": {
      "application/vnd.jupyter.widget-view+json": {
       "model_id": "d59521491aa64b6cbc1b3fabd07e61bb",
       "version_major": 2,
       "version_minor": 0
      },
      "text/plain": [
       "model.safetensors:   0%|          | 0.00/1.74G [00:00<?, ?B/s]"
      ]
     },
     "metadata": {},
     "output_type": "display_data"
    },
    {
     "name": "stderr",
     "output_type": "stream",
     "text": [
      "100%|██████████| 3602/3602 [02:21<00:00, 25.44it/s]"
     ]
    },
    {
     "name": "stdout",
     "output_type": "stream",
     "text": [
      "Accuracy: 86.17%\n"
     ]
    },
    {
     "name": "stderr",
     "output_type": "stream",
     "text": [
      "\n"
     ]
    }
   ],
   "source": [
    "model_name = \"yangheng/deberta-v3-large-absa-v1.1\"\n",
    "accuracy = evaluate_model(model_name, train_df)\n",
    "print(f\"Accuracy: {accuracy * 100:.2f}%\")"
   ]
  },
  {
   "cell_type": "code",
   "execution_count": null,
   "metadata": {
    "execution": {
     "iopub.execute_input": "2024-12-11T19:17:06.172575Z",
     "iopub.status.busy": "2024-12-11T19:17:06.171909Z",
     "iopub.status.idle": "2024-12-11T19:17:06.750430Z",
     "shell.execute_reply": "2024-12-11T19:17:06.749698Z",
     "shell.execute_reply.started": "2024-12-11T19:17:06.172541Z"
    },
    "trusted": true
   },
   "outputs": [],
   "source": [
    "nlp = spacy.load(\"en_core_web_sm\")\n",
    "\n",
    "def visualize_dependencies(text):\n",
    "    doc = nlp(text)\n",
    "    spacy.displacy.render(doc, style=\"dep\", jupyter=True)\n",
    "\n",
    "def extract_dependency_context(text, aspect):\n",
    "    doc = nlp(text)\n",
    "    aspect_modifiers = []\n",
    "\n",
    "    for token in doc:\n",
    "        if aspect.lower() in token.text.lower():\n",
    "            for child in token.children:\n",
    "                if child.pos_ == \"ADJ\" and child.dep_ in ['amod', 'acomp']:\n",
    "                    aspect_modifiers.append(child.text)\n",
    "\n",
    "            if token.head.pos_ == \"ADJ\" and token.head.dep_ in ['acomp', 'attr', 'ROOT']:\n",
    "                aspect_modifiers.append(token.head.text)\n",
    "\n",
    "    if not aspect_modifiers:\n",
    "        for token in doc:\n",
    "            if token.pos_ == \"ADJ\":\n",
    "                return token.text\n",
    "\n",
    "    return \" \".join(aspect_modifiers) if aspect_modifiers else None\n",
    "\n",
    "\n",
    "def evaluate_model_with_dependency(model_name, train_df, device_index=0):\n",
    "    tokenizer = AutoTokenizer.from_pretrained(model_name)\n",
    "    model = AutoModelForSequenceClassification.from_pretrained(model_name)\n",
    "\n",
    "    classifier = pipeline(\"text-classification\", model=model, tokenizer=tokenizer, device=device_index)\n",
    "    \n",
    "    correct = 0\n",
    "    total = len(train_df)\n",
    "\n",
    "    # Iterate over the dataset\n",
    "    for i in tqdm(range(total)):\n",
    "        text = train_df[i]['text']\n",
    "        label = train_df[i]['label']\n",
    "        aspect = train_df[i]['span']\n",
    "    \n",
    "        aspect_context = extract_dependency_context(text, aspect)\n",
    "\n",
    "        # if aspect_context:\n",
    "        #     print(f\"Dependency Graph for Aspect Context: '{aspect_context}'\")\n",
    "            # visualize_dependencies(aspect_context)\n",
    "        \n",
    "        if aspect_context:\n",
    "            result = classifier(aspect_context)[0]\n",
    "            sentiment = result.get(\"label\")\n",
    "        else:\n",
    "            sentiment = \"neutral\"\n",
    "        \n",
    "        if label.lower() == sentiment.lower():\n",
    "            correct += 1\n",
    "\n",
    "    accuracy = correct / total\n",
    "    return accuracy"
   ]
  },
  {
   "cell_type": "code",
   "execution_count": 82,
   "metadata": {
    "execution": {
     "iopub.execute_input": "2024-12-11T19:17:23.895671Z",
     "iopub.status.busy": "2024-12-11T19:17:23.895050Z",
     "iopub.status.idle": "2024-12-11T19:18:48.272359Z",
     "shell.execute_reply": "2024-12-11T19:18:48.271484Z",
     "shell.execute_reply.started": "2024-12-11T19:17:23.895637Z"
    },
    "trusted": true
   },
   "outputs": [
    {
     "name": "stderr",
     "output_type": "stream",
     "text": [
      "100%|██████████| 3602/3602 [01:23<00:00, 43.36it/s]\n"
     ]
    },
    {
     "name": "stdout",
     "output_type": "stream",
     "text": [
      "Accuracy: 60.02%\n"
     ]
    }
   ],
   "source": [
    "model_name = \"yangheng/deberta-v3-base-absa-v1.1\"\n",
    "accuracy = evaluate_model_with_dependency(model_name, train_df)\n",
    "print(f\"Accuracy: {accuracy * 100:.2f}%\")"
   ]
  },
  {
   "cell_type": "code",
   "execution_count": 84,
   "metadata": {
    "execution": {
     "iopub.execute_input": "2024-12-11T19:24:11.788687Z",
     "iopub.status.busy": "2024-12-11T19:24:11.787926Z",
     "iopub.status.idle": "2024-12-11T19:26:33.857856Z",
     "shell.execute_reply": "2024-12-11T19:26:33.856981Z",
     "shell.execute_reply.started": "2024-12-11T19:24:11.788647Z"
    },
    "trusted": true
   },
   "outputs": [
    {
     "name": "stderr",
     "output_type": "stream",
     "text": [
      "100%|██████████| 3602/3602 [02:20<00:00, 25.67it/s]\n"
     ]
    },
    {
     "name": "stdout",
     "output_type": "stream",
     "text": [
      "Accuracy: 58.05%\n"
     ]
    }
   ],
   "source": [
    "model_name = \"yangheng/deberta-v3-large-absa-v1.1\"\n",
    "accuracy = evaluate_model_with_dependency(model_name, train_df)\n",
    "print(f\"Accuracy: {accuracy * 100:.2f}%\")"
   ]
  },
  {
   "cell_type": "markdown",
   "metadata": {},
   "source": [
    "# Experiment"
   ]
  },
  {
   "cell_type": "code",
   "execution_count": 85,
   "metadata": {
    "_cell_guid": "b1076dfc-b9ad-4769-8c92-a6c4dae69d19",
    "_uuid": "8f2839f25d086af736a60e9eeb907d3b93b6e0e5",
    "execution": {
     "iopub.execute_input": "2024-12-11T19:37:31.878449Z",
     "iopub.status.busy": "2024-12-11T19:37:31.878066Z",
     "iopub.status.idle": "2024-12-11T19:37:31.928138Z",
     "shell.execute_reply": "2024-12-11T19:37:31.927358Z",
     "shell.execute_reply.started": "2024-12-11T19:37:31.878417Z"
    },
    "trusted": true
   },
   "outputs": [
    {
     "data": {
      "text/html": [
       "<div>\n",
       "<style scoped>\n",
       "    .dataframe tbody tr th:only-of-type {\n",
       "        vertical-align: middle;\n",
       "    }\n",
       "\n",
       "    .dataframe tbody tr th {\n",
       "        vertical-align: top;\n",
       "    }\n",
       "\n",
       "    .dataframe thead th {\n",
       "        text-align: right;\n",
       "    }\n",
       "</style>\n",
       "<table border=\"1\" class=\"dataframe\">\n",
       "  <thead>\n",
       "    <tr style=\"text-align: right;\">\n",
       "      <th></th>\n",
       "      <th>Unnamed: 0</th>\n",
       "      <th>text</th>\n",
       "      <th>category</th>\n",
       "      <th>topic_food</th>\n",
       "      <th>score_food</th>\n",
       "      <th>topic_place</th>\n",
       "      <th>score_place</th>\n",
       "      <th>topic_price</th>\n",
       "      <th>score_price</th>\n",
       "      <th>topic_service</th>\n",
       "      <th>score_service</th>\n",
       "      <th>topic_count</th>\n",
       "      <th>main_topics</th>\n",
       "      <th>primary_topic</th>\n",
       "      <th>primary_score</th>\n",
       "    </tr>\n",
       "  </thead>\n",
       "  <tbody>\n",
       "    <tr>\n",
       "      <th>0</th>\n",
       "      <td>0</td>\n",
       "      <td>To be completely fair, the only redeeming fact...</td>\n",
       "      <td>food</td>\n",
       "      <td>1</td>\n",
       "      <td>0.223695</td>\n",
       "      <td>0</td>\n",
       "      <td>0.000000</td>\n",
       "      <td>0</td>\n",
       "      <td>0.0</td>\n",
       "      <td>0</td>\n",
       "      <td>0.000000</td>\n",
       "      <td>1</td>\n",
       "      <td>food</td>\n",
       "      <td>food</td>\n",
       "      <td>0.223695</td>\n",
       "    </tr>\n",
       "    <tr>\n",
       "      <th>1</th>\n",
       "      <td>1</td>\n",
       "      <td>The food is uniformly exceptional, with a very...</td>\n",
       "      <td>food</td>\n",
       "      <td>1</td>\n",
       "      <td>0.515413</td>\n",
       "      <td>1</td>\n",
       "      <td>0.378481</td>\n",
       "      <td>0</td>\n",
       "      <td>0.0</td>\n",
       "      <td>0</td>\n",
       "      <td>0.000000</td>\n",
       "      <td>2</td>\n",
       "      <td>food, place</td>\n",
       "      <td>food</td>\n",
       "      <td>0.515413</td>\n",
       "    </tr>\n",
       "    <tr>\n",
       "      <th>2</th>\n",
       "      <td>2</td>\n",
       "      <td>Not only was the food outstanding, but the lit...</td>\n",
       "      <td>food</td>\n",
       "      <td>1</td>\n",
       "      <td>0.330244</td>\n",
       "      <td>0</td>\n",
       "      <td>0.000000</td>\n",
       "      <td>0</td>\n",
       "      <td>0.0</td>\n",
       "      <td>0</td>\n",
       "      <td>0.000000</td>\n",
       "      <td>1</td>\n",
       "      <td>food</td>\n",
       "      <td>food</td>\n",
       "      <td>0.330244</td>\n",
       "    </tr>\n",
       "    <tr>\n",
       "      <th>3</th>\n",
       "      <td>3</td>\n",
       "      <td>It is very overpriced and not very tasty.</td>\n",
       "      <td>food</td>\n",
       "      <td>1</td>\n",
       "      <td>0.371381</td>\n",
       "      <td>0</td>\n",
       "      <td>0.000000</td>\n",
       "      <td>0</td>\n",
       "      <td>0.0</td>\n",
       "      <td>0</td>\n",
       "      <td>0.000000</td>\n",
       "      <td>1</td>\n",
       "      <td>food</td>\n",
       "      <td>food</td>\n",
       "      <td>0.371381</td>\n",
       "    </tr>\n",
       "    <tr>\n",
       "      <th>4</th>\n",
       "      <td>4</td>\n",
       "      <td>Our agreed favorite is the orrechiete with sau...</td>\n",
       "      <td>food</td>\n",
       "      <td>1</td>\n",
       "      <td>0.424373</td>\n",
       "      <td>1</td>\n",
       "      <td>0.321227</td>\n",
       "      <td>0</td>\n",
       "      <td>0.0</td>\n",
       "      <td>0</td>\n",
       "      <td>0.000000</td>\n",
       "      <td>2</td>\n",
       "      <td>food, place</td>\n",
       "      <td>food</td>\n",
       "      <td>0.424373</td>\n",
       "    </tr>\n",
       "    <tr>\n",
       "      <th>...</th>\n",
       "      <td>...</td>\n",
       "      <td>...</td>\n",
       "      <td>...</td>\n",
       "      <td>...</td>\n",
       "      <td>...</td>\n",
       "      <td>...</td>\n",
       "      <td>...</td>\n",
       "      <td>...</td>\n",
       "      <td>...</td>\n",
       "      <td>...</td>\n",
       "      <td>...</td>\n",
       "      <td>...</td>\n",
       "      <td>...</td>\n",
       "      <td>...</td>\n",
       "      <td>...</td>\n",
       "    </tr>\n",
       "    <tr>\n",
       "      <th>2195</th>\n",
       "      <td>2195</td>\n",
       "      <td>Warm, comfortable surroundings, nice appointme...</td>\n",
       "      <td>place</td>\n",
       "      <td>1</td>\n",
       "      <td>0.324377</td>\n",
       "      <td>1</td>\n",
       "      <td>0.594371</td>\n",
       "      <td>0</td>\n",
       "      <td>0.0</td>\n",
       "      <td>1</td>\n",
       "      <td>0.418131</td>\n",
       "      <td>3</td>\n",
       "      <td>food, place, service</td>\n",
       "      <td>place</td>\n",
       "      <td>0.594371</td>\n",
       "    </tr>\n",
       "    <tr>\n",
       "      <th>2196</th>\n",
       "      <td>2196</td>\n",
       "      <td>This is such a lovely, peaceful place to eat o...</td>\n",
       "      <td>place</td>\n",
       "      <td>1</td>\n",
       "      <td>0.330050</td>\n",
       "      <td>1</td>\n",
       "      <td>0.373284</td>\n",
       "      <td>0</td>\n",
       "      <td>0.0</td>\n",
       "      <td>0</td>\n",
       "      <td>0.000000</td>\n",
       "      <td>2</td>\n",
       "      <td>food, place</td>\n",
       "      <td>place</td>\n",
       "      <td>0.373284</td>\n",
       "    </tr>\n",
       "    <tr>\n",
       "      <th>2197</th>\n",
       "      <td>2197</td>\n",
       "      <td>This is a great place to take out-of-towners, ...</td>\n",
       "      <td>place</td>\n",
       "      <td>0</td>\n",
       "      <td>0.000000</td>\n",
       "      <td>1</td>\n",
       "      <td>0.386226</td>\n",
       "      <td>0</td>\n",
       "      <td>0.0</td>\n",
       "      <td>0</td>\n",
       "      <td>0.000000</td>\n",
       "      <td>1</td>\n",
       "      <td>place</td>\n",
       "      <td>place</td>\n",
       "      <td>0.386226</td>\n",
       "    </tr>\n",
       "    <tr>\n",
       "      <th>2198</th>\n",
       "      <td>2198</td>\n",
       "      <td>You will pay a lot for the decore, but the foo...</td>\n",
       "      <td>place</td>\n",
       "      <td>1</td>\n",
       "      <td>0.322529</td>\n",
       "      <td>1</td>\n",
       "      <td>0.377474</td>\n",
       "      <td>0</td>\n",
       "      <td>0.0</td>\n",
       "      <td>0</td>\n",
       "      <td>0.000000</td>\n",
       "      <td>2</td>\n",
       "      <td>food, place</td>\n",
       "      <td>place</td>\n",
       "      <td>0.377474</td>\n",
       "    </tr>\n",
       "    <tr>\n",
       "      <th>2199</th>\n",
       "      <td>2199</td>\n",
       "      <td>I care more about the food and ambience.</td>\n",
       "      <td>place</td>\n",
       "      <td>1</td>\n",
       "      <td>0.369760</td>\n",
       "      <td>1</td>\n",
       "      <td>0.378266</td>\n",
       "      <td>0</td>\n",
       "      <td>0.0</td>\n",
       "      <td>0</td>\n",
       "      <td>0.000000</td>\n",
       "      <td>2</td>\n",
       "      <td>food, place</td>\n",
       "      <td>place</td>\n",
       "      <td>0.378266</td>\n",
       "    </tr>\n",
       "  </tbody>\n",
       "</table>\n",
       "<p>2200 rows × 15 columns</p>\n",
       "</div>"
      ],
      "text/plain": [
       "      Unnamed: 0                                               text category  \\\n",
       "0              0  To be completely fair, the only redeeming fact...     food   \n",
       "1              1  The food is uniformly exceptional, with a very...     food   \n",
       "2              2  Not only was the food outstanding, but the lit...     food   \n",
       "3              3          It is very overpriced and not very tasty.     food   \n",
       "4              4  Our agreed favorite is the orrechiete with sau...     food   \n",
       "...          ...                                                ...      ...   \n",
       "2195        2195  Warm, comfortable surroundings, nice appointme...    place   \n",
       "2196        2196  This is such a lovely, peaceful place to eat o...    place   \n",
       "2197        2197  This is a great place to take out-of-towners, ...    place   \n",
       "2198        2198  You will pay a lot for the decore, but the foo...    place   \n",
       "2199        2199           I care more about the food and ambience.    place   \n",
       "\n",
       "      topic_food  score_food  topic_place  score_place  topic_price  \\\n",
       "0              1    0.223695            0     0.000000            0   \n",
       "1              1    0.515413            1     0.378481            0   \n",
       "2              1    0.330244            0     0.000000            0   \n",
       "3              1    0.371381            0     0.000000            0   \n",
       "4              1    0.424373            1     0.321227            0   \n",
       "...          ...         ...          ...          ...          ...   \n",
       "2195           1    0.324377            1     0.594371            0   \n",
       "2196           1    0.330050            1     0.373284            0   \n",
       "2197           0    0.000000            1     0.386226            0   \n",
       "2198           1    0.322529            1     0.377474            0   \n",
       "2199           1    0.369760            1     0.378266            0   \n",
       "\n",
       "      score_price  topic_service  score_service  topic_count  \\\n",
       "0             0.0              0       0.000000            1   \n",
       "1             0.0              0       0.000000            2   \n",
       "2             0.0              0       0.000000            1   \n",
       "3             0.0              0       0.000000            1   \n",
       "4             0.0              0       0.000000            2   \n",
       "...           ...            ...            ...          ...   \n",
       "2195          0.0              1       0.418131            3   \n",
       "2196          0.0              0       0.000000            2   \n",
       "2197          0.0              0       0.000000            1   \n",
       "2198          0.0              0       0.000000            2   \n",
       "2199          0.0              0       0.000000            2   \n",
       "\n",
       "               main_topics primary_topic  primary_score  \n",
       "0                     food          food       0.223695  \n",
       "1              food, place          food       0.515413  \n",
       "2                     food          food       0.330244  \n",
       "3                     food          food       0.371381  \n",
       "4              food, place          food       0.424373  \n",
       "...                    ...           ...            ...  \n",
       "2195  food, place, service         place       0.594371  \n",
       "2196           food, place         place       0.373284  \n",
       "2197                 place         place       0.386226  \n",
       "2198           food, place         place       0.377474  \n",
       "2199           food, place         place       0.378266  \n",
       "\n",
       "[2200 rows x 15 columns]"
      ]
     },
     "execution_count": 85,
     "metadata": {},
     "output_type": "execute_result"
    }
   ],
   "source": [
    "df = pd.read_csv('/kaggle/input/restaurant-review/temporary_result.csv')\n",
    "df"
   ]
  },
  {
   "cell_type": "code",
   "execution_count": 86,
   "metadata": {
    "execution": {
     "iopub.execute_input": "2024-12-11T19:37:34.125249Z",
     "iopub.status.busy": "2024-12-11T19:37:34.124916Z",
     "iopub.status.idle": "2024-12-11T19:37:35.485572Z",
     "shell.execute_reply": "2024-12-11T19:37:35.484803Z",
     "shell.execute_reply.started": "2024-12-11T19:37:34.125207Z"
    },
    "trusted": true
   },
   "outputs": [
    {
     "name": "stderr",
     "output_type": "stream",
     "text": [
      "/opt/conda/lib/python3.10/site-packages/transformers/convert_slow_tokenizer.py:561: UserWarning: The sentencepiece tokenizer that you are converting to a fast tokenizer uses the byte fallback option which is not implemented in the fast tokenizers. In practice this means that the fast version of the tokenizer can produce unknown tokens whereas the sentencepiece version would have converted these unknown tokens into a sequence of byte tokens matching the original piece of text.\n",
      "  warnings.warn(\n"
     ]
    }
   ],
   "source": [
    "model_name = \"yangheng/deberta-v3-base-absa-v1.1\"\n",
    "tokenizer = AutoTokenizer.from_pretrained(model_name)\n",
    "model = AutoModelForSequenceClassification.from_pretrained(model_name)\n",
    "classifier = pipeline(\"text-classification\", model=model, tokenizer=tokenizer, device=device_index)"
   ]
  },
  {
   "cell_type": "code",
   "execution_count": 87,
   "metadata": {
    "execution": {
     "iopub.execute_input": "2024-12-11T19:37:39.308347Z",
     "iopub.status.busy": "2024-12-11T19:37:39.307992Z",
     "iopub.status.idle": "2024-12-11T19:37:39.313775Z",
     "shell.execute_reply": "2024-12-11T19:37:39.312765Z",
     "shell.execute_reply.started": "2024-12-11T19:37:39.308315Z"
    },
    "trusted": true
   },
   "outputs": [],
   "source": [
    "def extract_aspect_sentiments(dataset, aspects, max_length=50):\n",
    "    for row in tqdm(dataset, desc=\"Processing rows\", unit=\"row\"):\n",
    "        text = row['text']\n",
    "        for aspect in aspects:\n",
    "            # Check if the aspect needs to be analyzed\n",
    "            if row[f'topic_{aspect}'] == 1:\n",
    "                result = classifier(text, text_pair=aspect)[0]\n",
    "                row[f'sentiment_{aspect}'] = result.get(\"label\")\n",
    "            else:\n",
    "                row[f'sentiment_{aspect}'] = \"Not Found\"\n",
    "    return dataset"
   ]
  },
  {
   "cell_type": "code",
   "execution_count": 88,
   "metadata": {
    "execution": {
     "iopub.execute_input": "2024-12-11T19:37:46.127367Z",
     "iopub.status.busy": "2024-12-11T19:37:46.127044Z",
     "iopub.status.idle": "2024-12-11T19:37:46.131518Z",
     "shell.execute_reply": "2024-12-11T19:37:46.130642Z",
     "shell.execute_reply.started": "2024-12-11T19:37:46.127339Z"
    },
    "trusted": true
   },
   "outputs": [],
   "source": [
    "aspects = [\"food\", \"place\", \"price\", \"service\"]"
   ]
  },
  {
   "cell_type": "code",
   "execution_count": 89,
   "metadata": {
    "execution": {
     "iopub.execute_input": "2024-12-11T19:37:47.625215Z",
     "iopub.status.busy": "2024-12-11T19:37:47.624456Z",
     "iopub.status.idle": "2024-12-11T19:38:52.633674Z",
     "shell.execute_reply": "2024-12-11T19:38:52.632799Z",
     "shell.execute_reply.started": "2024-12-11T19:37:47.625183Z"
    },
    "trusted": true
   },
   "outputs": [
    {
     "name": "stderr",
     "output_type": "stream",
     "text": [
      "Processing rows: 100%|██████████| 2200/2200 [01:04<00:00, 33.86row/s]\n"
     ]
    }
   ],
   "source": [
    "updated_data = extract_aspect_sentiments(df.to_dict(orient='records'), aspects)\n",
    "df_updated = pd.DataFrame(updated_data)"
   ]
  },
  {
   "cell_type": "code",
   "execution_count": 90,
   "metadata": {
    "execution": {
     "iopub.execute_input": "2024-12-11T19:39:26.133792Z",
     "iopub.status.busy": "2024-12-11T19:39:26.133462Z",
     "iopub.status.idle": "2024-12-11T19:39:26.152790Z",
     "shell.execute_reply": "2024-12-11T19:39:26.151821Z",
     "shell.execute_reply.started": "2024-12-11T19:39:26.133763Z"
    },
    "trusted": true
   },
   "outputs": [
    {
     "data": {
      "text/html": [
       "<div>\n",
       "<style scoped>\n",
       "    .dataframe tbody tr th:only-of-type {\n",
       "        vertical-align: middle;\n",
       "    }\n",
       "\n",
       "    .dataframe tbody tr th {\n",
       "        vertical-align: top;\n",
       "    }\n",
       "\n",
       "    .dataframe thead th {\n",
       "        text-align: right;\n",
       "    }\n",
       "</style>\n",
       "<table border=\"1\" class=\"dataframe\">\n",
       "  <thead>\n",
       "    <tr style=\"text-align: right;\">\n",
       "      <th></th>\n",
       "      <th>Unnamed: 0</th>\n",
       "      <th>text</th>\n",
       "      <th>category</th>\n",
       "      <th>topic_food</th>\n",
       "      <th>score_food</th>\n",
       "      <th>topic_place</th>\n",
       "      <th>score_place</th>\n",
       "      <th>topic_price</th>\n",
       "      <th>score_price</th>\n",
       "      <th>topic_service</th>\n",
       "      <th>score_service</th>\n",
       "      <th>topic_count</th>\n",
       "      <th>main_topics</th>\n",
       "      <th>primary_topic</th>\n",
       "      <th>primary_score</th>\n",
       "      <th>sentiment_food</th>\n",
       "      <th>sentiment_place</th>\n",
       "      <th>sentiment_price</th>\n",
       "      <th>sentiment_service</th>\n",
       "    </tr>\n",
       "  </thead>\n",
       "  <tbody>\n",
       "    <tr>\n",
       "      <th>0</th>\n",
       "      <td>0</td>\n",
       "      <td>To be completely fair, the only redeeming fact...</td>\n",
       "      <td>food</td>\n",
       "      <td>1</td>\n",
       "      <td>0.223695</td>\n",
       "      <td>0</td>\n",
       "      <td>0.000000</td>\n",
       "      <td>0</td>\n",
       "      <td>0.0</td>\n",
       "      <td>0</td>\n",
       "      <td>0.000000</td>\n",
       "      <td>1</td>\n",
       "      <td>food</td>\n",
       "      <td>food</td>\n",
       "      <td>0.223695</td>\n",
       "      <td>Positive</td>\n",
       "      <td>Not Found</td>\n",
       "      <td>Not Found</td>\n",
       "      <td>Not Found</td>\n",
       "    </tr>\n",
       "    <tr>\n",
       "      <th>1</th>\n",
       "      <td>1</td>\n",
       "      <td>The food is uniformly exceptional, with a very...</td>\n",
       "      <td>food</td>\n",
       "      <td>1</td>\n",
       "      <td>0.515413</td>\n",
       "      <td>1</td>\n",
       "      <td>0.378481</td>\n",
       "      <td>0</td>\n",
       "      <td>0.0</td>\n",
       "      <td>0</td>\n",
       "      <td>0.000000</td>\n",
       "      <td>2</td>\n",
       "      <td>food, place</td>\n",
       "      <td>food</td>\n",
       "      <td>0.515413</td>\n",
       "      <td>Positive</td>\n",
       "      <td>Neutral</td>\n",
       "      <td>Not Found</td>\n",
       "      <td>Not Found</td>\n",
       "    </tr>\n",
       "    <tr>\n",
       "      <th>2</th>\n",
       "      <td>2</td>\n",
       "      <td>Not only was the food outstanding, but the lit...</td>\n",
       "      <td>food</td>\n",
       "      <td>1</td>\n",
       "      <td>0.330244</td>\n",
       "      <td>0</td>\n",
       "      <td>0.000000</td>\n",
       "      <td>0</td>\n",
       "      <td>0.0</td>\n",
       "      <td>0</td>\n",
       "      <td>0.000000</td>\n",
       "      <td>1</td>\n",
       "      <td>food</td>\n",
       "      <td>food</td>\n",
       "      <td>0.330244</td>\n",
       "      <td>Positive</td>\n",
       "      <td>Not Found</td>\n",
       "      <td>Not Found</td>\n",
       "      <td>Not Found</td>\n",
       "    </tr>\n",
       "    <tr>\n",
       "      <th>3</th>\n",
       "      <td>3</td>\n",
       "      <td>It is very overpriced and not very tasty.</td>\n",
       "      <td>food</td>\n",
       "      <td>1</td>\n",
       "      <td>0.371381</td>\n",
       "      <td>0</td>\n",
       "      <td>0.000000</td>\n",
       "      <td>0</td>\n",
       "      <td>0.0</td>\n",
       "      <td>0</td>\n",
       "      <td>0.000000</td>\n",
       "      <td>1</td>\n",
       "      <td>food</td>\n",
       "      <td>food</td>\n",
       "      <td>0.371381</td>\n",
       "      <td>Negative</td>\n",
       "      <td>Not Found</td>\n",
       "      <td>Not Found</td>\n",
       "      <td>Not Found</td>\n",
       "    </tr>\n",
       "    <tr>\n",
       "      <th>4</th>\n",
       "      <td>4</td>\n",
       "      <td>Our agreed favorite is the orrechiete with sau...</td>\n",
       "      <td>food</td>\n",
       "      <td>1</td>\n",
       "      <td>0.424373</td>\n",
       "      <td>1</td>\n",
       "      <td>0.321227</td>\n",
       "      <td>0</td>\n",
       "      <td>0.0</td>\n",
       "      <td>0</td>\n",
       "      <td>0.000000</td>\n",
       "      <td>2</td>\n",
       "      <td>food, place</td>\n",
       "      <td>food</td>\n",
       "      <td>0.424373</td>\n",
       "      <td>Neutral</td>\n",
       "      <td>Neutral</td>\n",
       "      <td>Not Found</td>\n",
       "      <td>Not Found</td>\n",
       "    </tr>\n",
       "    <tr>\n",
       "      <th>...</th>\n",
       "      <td>...</td>\n",
       "      <td>...</td>\n",
       "      <td>...</td>\n",
       "      <td>...</td>\n",
       "      <td>...</td>\n",
       "      <td>...</td>\n",
       "      <td>...</td>\n",
       "      <td>...</td>\n",
       "      <td>...</td>\n",
       "      <td>...</td>\n",
       "      <td>...</td>\n",
       "      <td>...</td>\n",
       "      <td>...</td>\n",
       "      <td>...</td>\n",
       "      <td>...</td>\n",
       "      <td>...</td>\n",
       "      <td>...</td>\n",
       "      <td>...</td>\n",
       "      <td>...</td>\n",
       "    </tr>\n",
       "    <tr>\n",
       "      <th>2195</th>\n",
       "      <td>2195</td>\n",
       "      <td>Warm, comfortable surroundings, nice appointme...</td>\n",
       "      <td>place</td>\n",
       "      <td>1</td>\n",
       "      <td>0.324377</td>\n",
       "      <td>1</td>\n",
       "      <td>0.594371</td>\n",
       "      <td>0</td>\n",
       "      <td>0.0</td>\n",
       "      <td>1</td>\n",
       "      <td>0.418131</td>\n",
       "      <td>3</td>\n",
       "      <td>food, place, service</td>\n",
       "      <td>place</td>\n",
       "      <td>0.594371</td>\n",
       "      <td>Neutral</td>\n",
       "      <td>Positive</td>\n",
       "      <td>Not Found</td>\n",
       "      <td>Positive</td>\n",
       "    </tr>\n",
       "    <tr>\n",
       "      <th>2196</th>\n",
       "      <td>2196</td>\n",
       "      <td>This is such a lovely, peaceful place to eat o...</td>\n",
       "      <td>place</td>\n",
       "      <td>1</td>\n",
       "      <td>0.330050</td>\n",
       "      <td>1</td>\n",
       "      <td>0.373284</td>\n",
       "      <td>0</td>\n",
       "      <td>0.0</td>\n",
       "      <td>0</td>\n",
       "      <td>0.000000</td>\n",
       "      <td>2</td>\n",
       "      <td>food, place</td>\n",
       "      <td>place</td>\n",
       "      <td>0.373284</td>\n",
       "      <td>Neutral</td>\n",
       "      <td>Positive</td>\n",
       "      <td>Not Found</td>\n",
       "      <td>Not Found</td>\n",
       "    </tr>\n",
       "    <tr>\n",
       "      <th>2197</th>\n",
       "      <td>2197</td>\n",
       "      <td>This is a great place to take out-of-towners, ...</td>\n",
       "      <td>place</td>\n",
       "      <td>0</td>\n",
       "      <td>0.000000</td>\n",
       "      <td>1</td>\n",
       "      <td>0.386226</td>\n",
       "      <td>0</td>\n",
       "      <td>0.0</td>\n",
       "      <td>0</td>\n",
       "      <td>0.000000</td>\n",
       "      <td>1</td>\n",
       "      <td>place</td>\n",
       "      <td>place</td>\n",
       "      <td>0.386226</td>\n",
       "      <td>Not Found</td>\n",
       "      <td>Positive</td>\n",
       "      <td>Not Found</td>\n",
       "      <td>Not Found</td>\n",
       "    </tr>\n",
       "    <tr>\n",
       "      <th>2198</th>\n",
       "      <td>2198</td>\n",
       "      <td>You will pay a lot for the decore, but the foo...</td>\n",
       "      <td>place</td>\n",
       "      <td>1</td>\n",
       "      <td>0.322529</td>\n",
       "      <td>1</td>\n",
       "      <td>0.377474</td>\n",
       "      <td>0</td>\n",
       "      <td>0.0</td>\n",
       "      <td>0</td>\n",
       "      <td>0.000000</td>\n",
       "      <td>2</td>\n",
       "      <td>food, place</td>\n",
       "      <td>place</td>\n",
       "      <td>0.377474</td>\n",
       "      <td>Negative</td>\n",
       "      <td>Neutral</td>\n",
       "      <td>Not Found</td>\n",
       "      <td>Not Found</td>\n",
       "    </tr>\n",
       "    <tr>\n",
       "      <th>2199</th>\n",
       "      <td>2199</td>\n",
       "      <td>I care more about the food and ambience.</td>\n",
       "      <td>place</td>\n",
       "      <td>1</td>\n",
       "      <td>0.369760</td>\n",
       "      <td>1</td>\n",
       "      <td>0.378266</td>\n",
       "      <td>0</td>\n",
       "      <td>0.0</td>\n",
       "      <td>0</td>\n",
       "      <td>0.000000</td>\n",
       "      <td>2</td>\n",
       "      <td>food, place</td>\n",
       "      <td>place</td>\n",
       "      <td>0.378266</td>\n",
       "      <td>Neutral</td>\n",
       "      <td>Neutral</td>\n",
       "      <td>Not Found</td>\n",
       "      <td>Not Found</td>\n",
       "    </tr>\n",
       "  </tbody>\n",
       "</table>\n",
       "<p>2200 rows × 19 columns</p>\n",
       "</div>"
      ],
      "text/plain": [
       "      Unnamed: 0                                               text category  \\\n",
       "0              0  To be completely fair, the only redeeming fact...     food   \n",
       "1              1  The food is uniformly exceptional, with a very...     food   \n",
       "2              2  Not only was the food outstanding, but the lit...     food   \n",
       "3              3          It is very overpriced and not very tasty.     food   \n",
       "4              4  Our agreed favorite is the orrechiete with sau...     food   \n",
       "...          ...                                                ...      ...   \n",
       "2195        2195  Warm, comfortable surroundings, nice appointme...    place   \n",
       "2196        2196  This is such a lovely, peaceful place to eat o...    place   \n",
       "2197        2197  This is a great place to take out-of-towners, ...    place   \n",
       "2198        2198  You will pay a lot for the decore, but the foo...    place   \n",
       "2199        2199           I care more about the food and ambience.    place   \n",
       "\n",
       "      topic_food  score_food  topic_place  score_place  topic_price  \\\n",
       "0              1    0.223695            0     0.000000            0   \n",
       "1              1    0.515413            1     0.378481            0   \n",
       "2              1    0.330244            0     0.000000            0   \n",
       "3              1    0.371381            0     0.000000            0   \n",
       "4              1    0.424373            1     0.321227            0   \n",
       "...          ...         ...          ...          ...          ...   \n",
       "2195           1    0.324377            1     0.594371            0   \n",
       "2196           1    0.330050            1     0.373284            0   \n",
       "2197           0    0.000000            1     0.386226            0   \n",
       "2198           1    0.322529            1     0.377474            0   \n",
       "2199           1    0.369760            1     0.378266            0   \n",
       "\n",
       "      score_price  topic_service  score_service  topic_count  \\\n",
       "0             0.0              0       0.000000            1   \n",
       "1             0.0              0       0.000000            2   \n",
       "2             0.0              0       0.000000            1   \n",
       "3             0.0              0       0.000000            1   \n",
       "4             0.0              0       0.000000            2   \n",
       "...           ...            ...            ...          ...   \n",
       "2195          0.0              1       0.418131            3   \n",
       "2196          0.0              0       0.000000            2   \n",
       "2197          0.0              0       0.000000            1   \n",
       "2198          0.0              0       0.000000            2   \n",
       "2199          0.0              0       0.000000            2   \n",
       "\n",
       "               main_topics primary_topic  primary_score sentiment_food  \\\n",
       "0                     food          food       0.223695       Positive   \n",
       "1              food, place          food       0.515413       Positive   \n",
       "2                     food          food       0.330244       Positive   \n",
       "3                     food          food       0.371381       Negative   \n",
       "4              food, place          food       0.424373        Neutral   \n",
       "...                    ...           ...            ...            ...   \n",
       "2195  food, place, service         place       0.594371        Neutral   \n",
       "2196           food, place         place       0.373284        Neutral   \n",
       "2197                 place         place       0.386226      Not Found   \n",
       "2198           food, place         place       0.377474       Negative   \n",
       "2199           food, place         place       0.378266        Neutral   \n",
       "\n",
       "     sentiment_place sentiment_price sentiment_service  \n",
       "0          Not Found       Not Found         Not Found  \n",
       "1            Neutral       Not Found         Not Found  \n",
       "2          Not Found       Not Found         Not Found  \n",
       "3          Not Found       Not Found         Not Found  \n",
       "4            Neutral       Not Found         Not Found  \n",
       "...              ...             ...               ...  \n",
       "2195        Positive       Not Found          Positive  \n",
       "2196        Positive       Not Found         Not Found  \n",
       "2197        Positive       Not Found         Not Found  \n",
       "2198         Neutral       Not Found         Not Found  \n",
       "2199         Neutral       Not Found         Not Found  \n",
       "\n",
       "[2200 rows x 19 columns]"
      ]
     },
     "execution_count": 90,
     "metadata": {},
     "output_type": "execute_result"
    }
   ],
   "source": [
    "df_updated"
   ]
  },
  {
   "cell_type": "code",
   "execution_count": 91,
   "metadata": {
    "execution": {
     "iopub.execute_input": "2024-12-11T19:39:28.782364Z",
     "iopub.status.busy": "2024-12-11T19:39:28.781765Z",
     "iopub.status.idle": "2024-12-11T19:39:28.813213Z",
     "shell.execute_reply": "2024-12-11T19:39:28.812443Z",
     "shell.execute_reply.started": "2024-12-11T19:39:28.782331Z"
    },
    "trusted": true
   },
   "outputs": [
    {
     "name": "stdout",
     "output_type": "stream",
     "text": [
      "Updated aspect-based sentiment results saved to updated_aspect_sentiments.csv\n"
     ]
    }
   ],
   "source": [
    "output_path = \"updated_aspect_sentiments.csv\"\n",
    "df_updated.to_csv(output_path, index=False)\n",
    "print(f\"Updated aspect-based sentiment results saved to {output_path}\")"
   ]
  }
 ],
 "metadata": {
  "kaggle": {
   "accelerator": "nvidiaTeslaT4",
   "dataSources": [
    {
     "datasetId": 6261202,
     "sourceId": 10143825,
     "sourceType": "datasetVersion"
    }
   ],
   "dockerImageVersionId": 30805,
   "isGpuEnabled": true,
   "isInternetEnabled": true,
   "language": "python",
   "sourceType": "notebook"
  },
  "kernelspec": {
   "display_name": "Python 3",
   "language": "python",
   "name": "python3"
  },
  "language_info": {
   "codemirror_mode": {
    "name": "ipython",
    "version": 3
   },
   "file_extension": ".py",
   "mimetype": "text/x-python",
   "name": "python",
   "nbconvert_exporter": "python",
   "pygments_lexer": "ipython3",
   "version": "3.10.14"
  }
 },
 "nbformat": 4,
 "nbformat_minor": 4
}
